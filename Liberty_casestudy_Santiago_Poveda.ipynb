{
 "cells": [
  {
   "cell_type": "markdown",
   "id": "0f648de9",
   "metadata": {},
   "source": [
    "# LIBERTY INSURANCE CASE STUDY"
   ]
  },
  {
   "cell_type": "markdown",
   "id": "81eb4f1c",
   "metadata": {},
   "source": [
    "#### By: Santiago Poveda Peñuela"
   ]
  },
  {
   "cell_type": "markdown",
   "id": "a1cd079a",
   "metadata": {},
   "source": [
    "In this notebook we will aim to gradient boosted trees model to predict the amount of claims in the data set. For that first we first make a basic analysis of the data and clean it up. Then I will go throw the necessary steps to cerate the model. "
   ]
  },
  {
   "cell_type": "code",
   "execution_count": 312,
   "id": "e6f1ed85",
   "metadata": {},
   "outputs": [],
   "source": [
    "import pandas as pd\n",
    "import matplotlib as mpl\n",
    "import matplotlib.pyplot as plt\n",
    "import matplotlib.pylab as pylab\n",
    "import  seaborn as sb\n",
    "import category_encoders as ce\n",
    "from sklearn.model_selection import train_test_split\n",
    "from sklearn.ensemble import GradientBoostingRegressor , GradientBoostingClassifier\n",
    "from sklearn.pipeline import Pipeline\n",
    "from sklearn.base import BaseEstimator, TransformerMixin\n",
    "from sklearn.experimental import enable_halving_search_cv \n",
    "from sklearn.model_selection import GridSearchCV\n",
    "from sklearn.utils.class_weight import compute_sample_weight\n",
    "from sklearn.metrics import mean_squared_error, confusion_matrix\n",
    "from funciones import InputProcessing, ModelRegTransformer, Combinar_modelos\n",
    "from sklearn import metrics\n",
    "import joblib "
   ]
  },
  {
   "cell_type": "markdown",
   "id": "9a0ed5d5",
   "metadata": {},
   "source": [
    "I used python 3.8 libraries I use in this are sklearn, seaborn, matplotlib, and category_encoders"
   ]
  },
  {
   "cell_type": "code",
   "execution_count": 320,
   "id": "6dbb3a43",
   "metadata": {},
   "outputs": [
    {
     "name": "stdout",
     "output_type": "stream",
     "text": [
      "Python 3.8.12\n"
     ]
    }
   ],
   "source": [
    "!python --version "
   ]
  },
  {
   "cell_type": "code",
   "execution_count": 319,
   "id": "787ca4b0",
   "metadata": {},
   "outputs": [
    {
     "name": "stdout",
     "output_type": "stream",
     "text": [
      "argon2-cffi @ file:///C:/ci/argon2-cffi_1613037959010/work\n",
      "async-generator @ file:///home/ktietz/src/ci/async_generator_1611927993394/work\n",
      "attrs @ file:///tmp/build/80754af9/attrs_1620827162558/work\n",
      "backcall @ file:///home/ktietz/src/ci/backcall_1611930011877/work\n",
      "bleach @ file:///tmp/build/80754af9/bleach_1628110601003/work\n",
      "category-encoders==2.3.0\n",
      "certifi==2021.10.8\n",
      "cffi @ file:///C:/ci/cffi_1636542074879/work\n",
      "colorama @ file:///tmp/build/80754af9/colorama_1607707115595/work\n",
      "cycler==0.11.0\n",
      "debugpy @ file:///C:/ci/debugpy_1637073815078/work\n",
      "decorator @ file:///tmp/build/80754af9/decorator_1632776554403/work\n",
      "defusedxml @ file:///tmp/build/80754af9/defusedxml_1615228127516/work\n",
      "entrypoints==0.3\n",
      "fonttools==4.28.2\n",
      "importlib-metadata @ file:///C:/ci/importlib-metadata_1631916848487/work\n",
      "ipykernel @ file:///C:/ci/ipykernel_1633545574250/work/dist/ipykernel-6.4.1-py3-none-any.whl\n",
      "ipython @ file:///C:/ci/ipython_1635944310712/work\n",
      "ipython-genutils @ file:///tmp/build/80754af9/ipython_genutils_1606773439826/work\n",
      "ipywidgets @ file:///tmp/build/80754af9/ipywidgets_1634143127070/work\n",
      "jedi @ file:///C:/ci/jedi_1611315808330/work\n",
      "Jinja2 @ file:///tmp/build/80754af9/jinja2_1635780242639/work\n",
      "joblib==1.1.0\n",
      "jsonschema @ file:///Users/ktietz/demo/mc3/conda-bld/jsonschema_1630511932244/work\n",
      "jupyter==1.0.0\n",
      "jupyter-client @ file:///tmp/build/80754af9/jupyter_client_1637148478538/work\n",
      "jupyter-console @ file:///tmp/build/80754af9/jupyter_console_1616615302928/work\n",
      "jupyter-core @ file:///C:/ci/jupyter_core_1636537213213/work\n",
      "jupyterlab-pygments @ file:///tmp/build/80754af9/jupyterlab_pygments_1601490720602/work\n",
      "jupyterlab-widgets @ file:///tmp/build/80754af9/jupyterlab_widgets_1609884341231/work\n",
      "kiwisolver==1.3.2\n",
      "MarkupSafe @ file:///C:/ci/markupsafe_1621528314575/work\n",
      "matplotlib==3.5.0\n",
      "matplotlib-inline @ file:///tmp/build/80754af9/matplotlib-inline_1628242447089/work\n",
      "mistune==0.8.4\n",
      "nbclient @ file:///tmp/build/80754af9/nbclient_1614364831625/work\n",
      "nbconvert @ file:///C:/ci/nbconvert_1624479163777/work\n",
      "nbformat @ file:///tmp/build/80754af9/nbformat_1617383369282/work\n",
      "nest-asyncio @ file:///tmp/build/80754af9/nest-asyncio_1613680548246/work\n",
      "notebook @ file:///C:/ci/notebook_1637143794296/work\n",
      "numpy==1.21.4\n",
      "packaging @ file:///tmp/build/80754af9/packaging_1637314298585/work\n",
      "pandas==1.3.4\n",
      "pandocfilters @ file:///C:/ci/pandocfilters_1605102497129/work\n",
      "parso @ file:///tmp/build/80754af9/parso_1617223946239/work\n",
      "patsy==0.5.2\n",
      "pickleshare @ file:///tmp/build/80754af9/pickleshare_1606932040724/work\n",
      "Pillow==8.4.0\n",
      "prometheus-client @ file:///tmp/build/80754af9/prometheus_client_1637050397234/work\n",
      "prompt-toolkit @ file:///tmp/build/80754af9/prompt-toolkit_1633440160888/work\n",
      "pyaml==21.10.1\n",
      "pycparser @ file:///tmp/build/80754af9/pycparser_1636541352034/work\n",
      "Pygments @ file:///tmp/build/80754af9/pygments_1629234116488/work\n",
      "pyparsing @ file:///tmp/build/80754af9/pyparsing_1635766073266/work\n",
      "pyrsistent @ file:///C:/ci/pyrsistent_1636111468851/work\n",
      "python-dateutil @ file:///tmp/build/80754af9/python-dateutil_1626374649649/work\n",
      "pytz==2021.3\n",
      "pywin32==228\n",
      "pywinpty==0.5.7\n",
      "PyYAML==6.0\n",
      "pyzmq @ file:///C:/ci/pyzmq_1628276144921/work\n",
      "qtconsole @ file:///tmp/build/80754af9/qtconsole_1632739723211/work\n",
      "QtPy @ file:///tmp/build/80754af9/qtpy_1629397026935/work\n",
      "scikit-learn==1.0.1\n",
      "scikit-optimize==0.9.0\n",
      "scipy==1.7.3\n",
      "seaborn==0.11.2\n",
      "Send2Trash @ file:///tmp/build/80754af9/send2trash_1632406701022/work\n",
      "setuptools-scm==6.3.2\n",
      "sip==4.19.13\n",
      "six @ file:///tmp/build/80754af9/six_1623709665295/work\n",
      "statsmodels==0.13.1\n",
      "terminado==0.9.4\n",
      "testpath @ file:///tmp/build/80754af9/testpath_1624638946665/work\n",
      "threadpoolctl==3.0.0\n",
      "tomli==1.2.2\n",
      "tornado @ file:///C:/ci/tornado_1606942392901/work\n",
      "traitlets @ file:///tmp/build/80754af9/traitlets_1636710298902/work\n",
      "wcwidth @ file:///Users/ktietz/demo/mc3/conda-bld/wcwidth_1629357192024/work\n",
      "webencodings==0.5.1\n",
      "widgetsnbextension==3.5.1\n",
      "wincertstore==0.2\n",
      "zipp @ file:///tmp/build/80754af9/zipp_1633618647012/work\n"
     ]
    }
   ],
   "source": [
    "!pip freeze"
   ]
  },
  {
   "cell_type": "markdown",
   "id": "ad532a8e",
   "metadata": {},
   "source": [
    "# Basic data analysis and cleaun-up"
   ]
  },
  {
   "cell_type": "markdown",
   "id": "5f4d28ed",
   "metadata": {},
   "source": [
    "We start by reading the csv file and looking at how the data got imported"
   ]
  },
  {
   "cell_type": "code",
   "execution_count": 16,
   "id": "607f0bff",
   "metadata": {},
   "outputs": [
    {
     "name": "stdout",
     "output_type": "stream",
     "text": [
      "<class 'pandas.core.frame.DataFrame'>\n",
      "RangeIndex: 678013 entries, 0 to 678012\n",
      "Data columns (total 12 columns):\n",
      " #   Column                      Non-Null Count   Dtype \n",
      "---  ------                      --------------   ----- \n",
      " 0   policy_desc                 678013 non-null  int64 \n",
      " 1   claim_count                 678013 non-null  int64 \n",
      " 2   cat_areacode                678013 non-null  object\n",
      " 3   num_vehicleAge              678013 non-null  int64 \n",
      " 4   num_noClaimDiscountPercent  678013 non-null  int64 \n",
      " 5   cat_carBrand                678013 non-null  object\n",
      " 6   num_populationDensitykmsq   678013 non-null  int64 \n",
      " 7   cat_Region                  678013 non-null  object\n",
      " 8   ord_vehicleHP               678013 non-null  int64 \n",
      " 9   num_exposure                678013 non-null  object\n",
      " 10  cat_fuelType                677991 non-null  object\n",
      " 11  num_driverAge               677999 non-null  object\n",
      "dtypes: int64(6), object(6)\n",
      "memory usage: 62.1+ MB\n"
     ]
    }
   ],
   "source": [
    "data = pd.read_csv(\"casestudy_data.csv\")\n",
    "data.info()"
   ]
  },
  {
   "cell_type": "code",
   "execution_count": 27,
   "id": "65410bf0",
   "metadata": {},
   "outputs": [
    {
     "data": {
      "text/html": [
       "<div>\n",
       "<style scoped>\n",
       "    .dataframe tbody tr th:only-of-type {\n",
       "        vertical-align: middle;\n",
       "    }\n",
       "\n",
       "    .dataframe tbody tr th {\n",
       "        vertical-align: top;\n",
       "    }\n",
       "\n",
       "    .dataframe thead th {\n",
       "        text-align: right;\n",
       "    }\n",
       "</style>\n",
       "<table border=\"1\" class=\"dataframe\">\n",
       "  <thead>\n",
       "    <tr style=\"text-align: right;\">\n",
       "      <th></th>\n",
       "      <th>policy_desc</th>\n",
       "      <th>claim_count</th>\n",
       "      <th>cat_areacode</th>\n",
       "      <th>num_vehicleAge</th>\n",
       "      <th>num_noClaimDiscountPercent</th>\n",
       "      <th>cat_carBrand</th>\n",
       "      <th>num_populationDensitykmsq</th>\n",
       "      <th>cat_Region</th>\n",
       "      <th>ord_vehicleHP</th>\n",
       "      <th>num_exposure</th>\n",
       "      <th>cat_fuelType</th>\n",
       "      <th>num_driverAge</th>\n",
       "    </tr>\n",
       "  </thead>\n",
       "  <tbody>\n",
       "    <tr>\n",
       "      <th>0</th>\n",
       "      <td>1</td>\n",
       "      <td>1</td>\n",
       "      <td>D</td>\n",
       "      <td>0</td>\n",
       "      <td>50</td>\n",
       "      <td>B12</td>\n",
       "      <td>1217</td>\n",
       "      <td>R82</td>\n",
       "      <td>5</td>\n",
       "      <td>0.1</td>\n",
       "      <td>Regular</td>\n",
       "      <td>55</td>\n",
       "    </tr>\n",
       "    <tr>\n",
       "      <th>1</th>\n",
       "      <td>3</td>\n",
       "      <td>1</td>\n",
       "      <td>D</td>\n",
       "      <td>0</td>\n",
       "      <td>50</td>\n",
       "      <td>B12</td>\n",
       "      <td>1217</td>\n",
       "      <td>R82</td>\n",
       "      <td>5</td>\n",
       "      <td>0.77</td>\n",
       "      <td>Regular</td>\n",
       "      <td>55</td>\n",
       "    </tr>\n",
       "    <tr>\n",
       "      <th>2</th>\n",
       "      <td>5</td>\n",
       "      <td>1</td>\n",
       "      <td>B</td>\n",
       "      <td>2</td>\n",
       "      <td>50</td>\n",
       "      <td>B12</td>\n",
       "      <td>54</td>\n",
       "      <td>R22</td>\n",
       "      <td>6</td>\n",
       "      <td>0.75</td>\n",
       "      <td>Diesel</td>\n",
       "      <td>52</td>\n",
       "    </tr>\n",
       "    <tr>\n",
       "      <th>3</th>\n",
       "      <td>10</td>\n",
       "      <td>1</td>\n",
       "      <td>B</td>\n",
       "      <td>0</td>\n",
       "      <td>50</td>\n",
       "      <td>B12</td>\n",
       "      <td>76</td>\n",
       "      <td>R72</td>\n",
       "      <td>7</td>\n",
       "      <td>0.09</td>\n",
       "      <td>Diesel</td>\n",
       "      <td>46</td>\n",
       "    </tr>\n",
       "    <tr>\n",
       "      <th>4</th>\n",
       "      <td>11</td>\n",
       "      <td>1</td>\n",
       "      <td>B</td>\n",
       "      <td>0</td>\n",
       "      <td>50</td>\n",
       "      <td>B12</td>\n",
       "      <td>76</td>\n",
       "      <td>R72</td>\n",
       "      <td>7</td>\n",
       "      <td>0.84</td>\n",
       "      <td>Diesel</td>\n",
       "      <td>46</td>\n",
       "    </tr>\n",
       "    <tr>\n",
       "      <th>5</th>\n",
       "      <td>13</td>\n",
       "      <td>1</td>\n",
       "      <td>E</td>\n",
       "      <td>2</td>\n",
       "      <td>50</td>\n",
       "      <td>B12</td>\n",
       "      <td>3003</td>\n",
       "      <td>R31</td>\n",
       "      <td>6</td>\n",
       "      <td>0.52</td>\n",
       "      <td>Regular</td>\n",
       "      <td>38</td>\n",
       "    </tr>\n",
       "    <tr>\n",
       "      <th>6</th>\n",
       "      <td>15</td>\n",
       "      <td>1</td>\n",
       "      <td>E</td>\n",
       "      <td>2</td>\n",
       "      <td>50</td>\n",
       "      <td>B12</td>\n",
       "      <td>3003</td>\n",
       "      <td>R31</td>\n",
       "      <td>6</td>\n",
       "      <td>0.45</td>\n",
       "      <td>Regular</td>\n",
       "      <td>38</td>\n",
       "    </tr>\n",
       "    <tr>\n",
       "      <th>7</th>\n",
       "      <td>17</td>\n",
       "      <td>1</td>\n",
       "      <td>C</td>\n",
       "      <td>0</td>\n",
       "      <td>68</td>\n",
       "      <td>B12</td>\n",
       "      <td>137</td>\n",
       "      <td>R91</td>\n",
       "      <td>7</td>\n",
       "      <td>0.27</td>\n",
       "      <td>Diesel</td>\n",
       "      <td>33</td>\n",
       "    </tr>\n",
       "    <tr>\n",
       "      <th>8</th>\n",
       "      <td>18</td>\n",
       "      <td>1</td>\n",
       "      <td>C</td>\n",
       "      <td>0</td>\n",
       "      <td>68</td>\n",
       "      <td>B12</td>\n",
       "      <td>137</td>\n",
       "      <td>R91</td>\n",
       "      <td>7</td>\n",
       "      <td>0.71</td>\n",
       "      <td>Diesel</td>\n",
       "      <td>33</td>\n",
       "    </tr>\n",
       "    <tr>\n",
       "      <th>9</th>\n",
       "      <td>21</td>\n",
       "      <td>1</td>\n",
       "      <td>B</td>\n",
       "      <td>0</td>\n",
       "      <td>50</td>\n",
       "      <td>B12</td>\n",
       "      <td>60</td>\n",
       "      <td>R52</td>\n",
       "      <td>7</td>\n",
       "      <td>0.15</td>\n",
       "      <td>Diesel</td>\n",
       "      <td>41</td>\n",
       "    </tr>\n",
       "  </tbody>\n",
       "</table>\n",
       "</div>"
      ],
      "text/plain": [
       "   policy_desc  claim_count cat_areacode  num_vehicleAge  \\\n",
       "0            1            1            D               0   \n",
       "1            3            1            D               0   \n",
       "2            5            1            B               2   \n",
       "3           10            1            B               0   \n",
       "4           11            1            B               0   \n",
       "5           13            1            E               2   \n",
       "6           15            1            E               2   \n",
       "7           17            1            C               0   \n",
       "8           18            1            C               0   \n",
       "9           21            1            B               0   \n",
       "\n",
       "   num_noClaimDiscountPercent cat_carBrand  num_populationDensitykmsq  \\\n",
       "0                          50          B12                       1217   \n",
       "1                          50          B12                       1217   \n",
       "2                          50          B12                         54   \n",
       "3                          50          B12                         76   \n",
       "4                          50          B12                         76   \n",
       "5                          50          B12                       3003   \n",
       "6                          50          B12                       3003   \n",
       "7                          68          B12                        137   \n",
       "8                          68          B12                        137   \n",
       "9                          50          B12                         60   \n",
       "\n",
       "  cat_Region  ord_vehicleHP num_exposure cat_fuelType num_driverAge  \n",
       "0        R82              5          0.1      Regular            55  \n",
       "1        R82              5         0.77      Regular            55  \n",
       "2        R22              6         0.75       Diesel            52  \n",
       "3        R72              7         0.09       Diesel            46  \n",
       "4        R72              7         0.84       Diesel            46  \n",
       "5        R31              6         0.52      Regular            38  \n",
       "6        R31              6         0.45      Regular            38  \n",
       "7        R91              7         0.27       Diesel            33  \n",
       "8        R91              7         0.71       Diesel            33  \n",
       "9        R52              7         0.15       Diesel            41  "
      ]
     },
     "execution_count": 27,
     "metadata": {},
     "output_type": "execute_result"
    }
   ],
   "source": [
    "data.head(10)"
   ]
  },
  {
   "cell_type": "markdown",
   "id": "6c1d73ef",
   "metadata": {},
   "source": [
    "Fist we take a look at the columns num_exposure and num_driverAge  that should be numeric and aren't. We look at what are the values that are not converting into numeric."
   ]
  },
  {
   "cell_type": "code",
   "execution_count": 19,
   "id": "55286c85",
   "metadata": {},
   "outputs": [],
   "source": [
    "e_nn = pd.to_numeric(data['num_exposure'], errors='coerce').isna() \n",
    "da_nn = pd.to_numeric(data['num_driverAge'], errors='coerce').isna()\n"
   ]
  },
  {
   "cell_type": "code",
   "execution_count": 21,
   "id": "65dab629",
   "metadata": {},
   "outputs": [
    {
     "data": {
      "text/plain": [
       "23years    27\n",
       "37years    27\n",
       "10years    17\n",
       "Name: num_exposure, dtype: int64"
      ]
     },
     "execution_count": 21,
     "metadata": {},
     "output_type": "execute_result"
    }
   ],
   "source": [
    "data.loc[e_nn, 'num_exposure'].value_counts()"
   ]
  },
  {
   "cell_type": "code",
   "execution_count": 22,
   "id": "1d6fa89c",
   "metadata": {},
   "outputs": [
    {
     "data": {
      "text/plain": [
       "      15\n",
       "       9\n",
       "Name: num_driverAge, dtype: int64"
      ]
     },
     "execution_count": 22,
     "metadata": {},
     "output_type": "execute_result"
    }
   ],
   "source": [
    "data.loc[da_nn, 'num_driverAge'].value_counts()"
   ]
  },
  {
   "cell_type": "markdown",
   "id": "e658619c",
   "metadata": {},
   "source": [
    "The problems with num_exposure can be corrected but these numbers look nothing like the rest of the column so they must be discarded.\n",
    "\n",
    "In num_driverAge looks like the problem are spaces in the column and they must also be discarded. \n"
   ]
  },
  {
   "cell_type": "code",
   "execution_count": 28,
   "id": "2b8de5fa",
   "metadata": {},
   "outputs": [],
   "source": [
    "data['num_exposure']=pd.to_numeric(data['num_exposure'], errors='coerce')\n",
    "data['num_driverAge']=pd.to_numeric(data['num_driverAge'], errors='coerce')"
   ]
  },
  {
   "cell_type": "code",
   "execution_count": 29,
   "id": "1474f77f",
   "metadata": {},
   "outputs": [
    {
     "data": {
      "text/plain": [
       "policy_desc                    0\n",
       "claim_count                    0\n",
       "cat_areacode                   0\n",
       "num_vehicleAge                 0\n",
       "num_noClaimDiscountPercent     0\n",
       "cat_carBrand                   0\n",
       "num_populationDensitykmsq      0\n",
       "cat_Region                     0\n",
       "ord_vehicleHP                  0\n",
       "num_exposure                  71\n",
       "cat_fuelType                  22\n",
       "num_driverAge                 38\n",
       "dtype: int64"
      ]
     },
     "execution_count": 29,
     "metadata": {},
     "output_type": "execute_result"
    }
   ],
   "source": [
    "data.isnull().sum()"
   ]
  },
  {
   "cell_type": "markdown",
   "id": "4dae8eb6",
   "metadata": {},
   "source": [
    "Since the amount of null values is negligible compared to the sample size we can just discard the rows that contain those null values. "
   ]
  },
  {
   "cell_type": "code",
   "execution_count": 30,
   "id": "339ee9f0",
   "metadata": {},
   "outputs": [],
   "source": [
    "data = data[~data.isnull().any(axis=1)]\n",
    "data = data.set_index('policy_desc')\n"
   ]
  },
  {
   "cell_type": "markdown",
   "id": "84bc39bc",
   "metadata": {},
   "source": [
    "We start the data analysis by looking at the numerical variables."
   ]
  },
  {
   "cell_type": "code",
   "execution_count": 31,
   "id": "e4eef8f5",
   "metadata": {},
   "outputs": [
    {
     "data": {
      "text/html": [
       "<div>\n",
       "<style scoped>\n",
       "    .dataframe tbody tr th:only-of-type {\n",
       "        vertical-align: middle;\n",
       "    }\n",
       "\n",
       "    .dataframe tbody tr th {\n",
       "        vertical-align: top;\n",
       "    }\n",
       "\n",
       "    .dataframe thead th {\n",
       "        text-align: right;\n",
       "    }\n",
       "</style>\n",
       "<table border=\"1\" class=\"dataframe\">\n",
       "  <thead>\n",
       "    <tr style=\"text-align: right;\">\n",
       "      <th></th>\n",
       "      <th>claim_count</th>\n",
       "      <th>num_vehicleAge</th>\n",
       "      <th>num_noClaimDiscountPercent</th>\n",
       "      <th>num_populationDensitykmsq</th>\n",
       "      <th>ord_vehicleHP</th>\n",
       "      <th>num_exposure</th>\n",
       "      <th>num_driverAge</th>\n",
       "    </tr>\n",
       "  </thead>\n",
       "  <tbody>\n",
       "    <tr>\n",
       "      <th>count</th>\n",
       "      <td>677882.000000</td>\n",
       "      <td>677882.000000</td>\n",
       "      <td>677882.000000</td>\n",
       "      <td>677882.000000</td>\n",
       "      <td>677882.000000</td>\n",
       "      <td>677882.000000</td>\n",
       "      <td>677882.000000</td>\n",
       "    </tr>\n",
       "    <tr>\n",
       "      <th>mean</th>\n",
       "      <td>0.053244</td>\n",
       "      <td>7.044522</td>\n",
       "      <td>59.761832</td>\n",
       "      <td>1792.355550</td>\n",
       "      <td>6.948264</td>\n",
       "      <td>0.528750</td>\n",
       "      <td>45.498888</td>\n",
       "    </tr>\n",
       "    <tr>\n",
       "      <th>std</th>\n",
       "      <td>0.240109</td>\n",
       "      <td>5.666282</td>\n",
       "      <td>15.636842</td>\n",
       "      <td>3958.376919</td>\n",
       "      <td>64.914886</td>\n",
       "      <td>0.364442</td>\n",
       "      <td>14.137492</td>\n",
       "    </tr>\n",
       "    <tr>\n",
       "      <th>min</th>\n",
       "      <td>0.000000</td>\n",
       "      <td>0.000000</td>\n",
       "      <td>50.000000</td>\n",
       "      <td>1.000000</td>\n",
       "      <td>4.000000</td>\n",
       "      <td>0.002732</td>\n",
       "      <td>18.000000</td>\n",
       "    </tr>\n",
       "    <tr>\n",
       "      <th>25%</th>\n",
       "      <td>0.000000</td>\n",
       "      <td>2.000000</td>\n",
       "      <td>50.000000</td>\n",
       "      <td>92.000000</td>\n",
       "      <td>5.000000</td>\n",
       "      <td>0.180000</td>\n",
       "      <td>34.000000</td>\n",
       "    </tr>\n",
       "    <tr>\n",
       "      <th>50%</th>\n",
       "      <td>0.000000</td>\n",
       "      <td>6.000000</td>\n",
       "      <td>50.000000</td>\n",
       "      <td>393.000000</td>\n",
       "      <td>6.000000</td>\n",
       "      <td>0.490000</td>\n",
       "      <td>44.000000</td>\n",
       "    </tr>\n",
       "    <tr>\n",
       "      <th>75%</th>\n",
       "      <td>0.000000</td>\n",
       "      <td>11.000000</td>\n",
       "      <td>64.000000</td>\n",
       "      <td>1658.000000</td>\n",
       "      <td>7.000000</td>\n",
       "      <td>0.990000</td>\n",
       "      <td>55.000000</td>\n",
       "    </tr>\n",
       "    <tr>\n",
       "      <th>max</th>\n",
       "      <td>16.000000</td>\n",
       "      <td>100.000000</td>\n",
       "      <td>230.000000</td>\n",
       "      <td>27000.000000</td>\n",
       "      <td>9999.000000</td>\n",
       "      <td>2.010000</td>\n",
       "      <td>100.000000</td>\n",
       "    </tr>\n",
       "  </tbody>\n",
       "</table>\n",
       "</div>"
      ],
      "text/plain": [
       "         claim_count  num_vehicleAge  num_noClaimDiscountPercent  \\\n",
       "count  677882.000000   677882.000000               677882.000000   \n",
       "mean        0.053244        7.044522                   59.761832   \n",
       "std         0.240109        5.666282                   15.636842   \n",
       "min         0.000000        0.000000                   50.000000   \n",
       "25%         0.000000        2.000000                   50.000000   \n",
       "50%         0.000000        6.000000                   50.000000   \n",
       "75%         0.000000       11.000000                   64.000000   \n",
       "max        16.000000      100.000000                  230.000000   \n",
       "\n",
       "       num_populationDensitykmsq  ord_vehicleHP   num_exposure  num_driverAge  \n",
       "count              677882.000000  677882.000000  677882.000000  677882.000000  \n",
       "mean                 1792.355550       6.948264       0.528750      45.498888  \n",
       "std                  3958.376919      64.914886       0.364442      14.137492  \n",
       "min                     1.000000       4.000000       0.002732      18.000000  \n",
       "25%                    92.000000       5.000000       0.180000      34.000000  \n",
       "50%                   393.000000       6.000000       0.490000      44.000000  \n",
       "75%                  1658.000000       7.000000       0.990000      55.000000  \n",
       "max                 27000.000000    9999.000000       2.010000     100.000000  "
      ]
     },
     "execution_count": 31,
     "metadata": {},
     "output_type": "execute_result"
    }
   ],
   "source": [
    "data.describe()"
   ]
  },
  {
   "cell_type": "code",
   "execution_count": 50,
   "id": "4655e718",
   "metadata": {},
   "outputs": [
    {
     "data": {
      "text/plain": [
       "0.05324377989089547"
      ]
     },
     "execution_count": 50,
     "metadata": {},
     "output_type": "execute_result"
    }
   ],
   "source": [
    "data.claim_count.mean()"
   ]
  },
  {
   "cell_type": "code",
   "execution_count": 36,
   "id": "3fe8f934",
   "metadata": {
    "scrolled": true
   },
   "outputs": [
    {
     "data": {
      "text/plain": [
       "0     643953\n",
       "1      32178\n",
       "2       1784\n",
       "3         82\n",
       "4          7\n",
       "11         3\n",
       "5          2\n",
       "6          1\n",
       "8          1\n",
       "16         1\n",
       "9          1\n",
       "Name: claim_count, dtype: int64"
      ]
     },
     "execution_count": 36,
     "metadata": {},
     "output_type": "execute_result"
    }
   ],
   "source": [
    "data.claim_count.value_counts()"
   ]
  },
  {
   "cell_type": "markdown",
   "id": "c1be4707",
   "metadata": {},
   "source": [
    "data.ord_vehicleHP.value_counts()"
   ]
  },
  {
   "cell_type": "markdown",
   "id": "875f80f4",
   "metadata": {},
   "source": [
    "- We obsreve that claim_count is imbalanced. 5% of the samples have a value different than 0. Since this is our target variable we will need to do something about it in the modeling phase. I am also considering as a path to create a classification model prior to the regression model to find out which ones will stay at 0 and later create a regrission model for those different than 0. For now lets create a column where the value is 0 if claim_count is 0 and 1 otherwise.\n",
    "\n",
    "- ord_vehicleHP is an ordinal value with 15 unique values. Looking at the \"1111\", \"999\", \"9999\" values we may have to start treating it as a categorical value. The least represented values will be merged into a single category to reduce the amount of columns created if we create dummy variables out of this column. This merged value will be shown as 16.(they could aslo be input mistakes  and may also be discarded. Since I can't know that right now and also have no idea if these are special categories that we have to be looking out for we will leave them be for now). Also since they are ordered categories we could group some of them together  to reduce cardinality."
   ]
  },
  {
   "cell_type": "code",
   "execution_count": 32,
   "id": "708af432",
   "metadata": {},
   "outputs": [],
   "source": [
    "data[\"claim\"]=0\n",
    "data.loc[data['claim_count'] > 0, 'claim'] = 1\n",
    "data.loc[(data['ord_vehicleHP'] >16 ), 'ord_vehicleHP'] = 16"
   ]
  },
  {
   "cell_type": "markdown",
   "id": "8687fd1b",
   "metadata": {},
   "source": [
    "Nothing more for now to see in the numeric columns, now on to the categorical values: \n",
    "- First we see what values do we have in each of the columns. "
   ]
  },
  {
   "cell_type": "code",
   "execution_count": 65,
   "id": "54ac55da",
   "metadata": {},
   "outputs": [
    {
     "data": {
      "text/plain": [
       "Regular     345797\n",
       "Diesel      332070\n",
       "Electric        15\n",
       "Name: cat_fuelType, dtype: int64"
      ]
     },
     "execution_count": 65,
     "metadata": {},
     "output_type": "execute_result"
    }
   ],
   "source": [
    "data.cat_fuelType.value_counts()"
   ]
  },
  {
   "cell_type": "code",
   "execution_count": 33,
   "id": "da28ab8d",
   "metadata": {},
   "outputs": [
    {
     "data": {
      "text/plain": [
       "C    191847\n",
       "D    151566\n",
       "E    137137\n",
       "A    103943\n",
       "B     75440\n",
       "F     17949\n",
       "Name: cat_areacode, dtype: int64"
      ]
     },
     "execution_count": 33,
     "metadata": {},
     "output_type": "execute_result"
    }
   ],
   "source": [
    "data.cat_areacode.value_counts()"
   ]
  },
  {
   "cell_type": "code",
   "execution_count": 34,
   "id": "59fae791",
   "metadata": {},
   "outputs": [
    {
     "data": {
      "text/plain": [
       "B12    165981\n",
       "B1     162714\n",
       "B2     159833\n",
       "B3      53381\n",
       "B5      34748\n",
       "B6      28540\n",
       "B4      25178\n",
       "B10     17705\n",
       "B11     13583\n",
       "B13     12175\n",
       "B14      4044\n",
       "Name: cat_carBrand, dtype: int64"
      ]
     },
     "execution_count": 34,
     "metadata": {},
     "output_type": "execute_result"
    }
   ],
   "source": [
    "data.cat_carBrand.value_counts()"
   ]
  },
  {
   "cell_type": "code",
   "execution_count": 35,
   "id": "92c5c4f2",
   "metadata": {},
   "outputs": [
    {
     "data": {
      "text/plain": [
       "R24    160564\n",
       "R82     84742\n",
       "R93     79294\n",
       "R11     69775\n",
       "R53     42120\n",
       "R52     38741\n",
       "R91     35795\n",
       "R72     31325\n",
       "R31     27283\n",
       "R54     19044\n",
       "R73     17137\n",
       "R41     12986\n",
       "R25     10892\n",
       "R26     10490\n",
       "R23      8784\n",
       "R22      7993\n",
       "R83      5286\n",
       "R74      4565\n",
       "R94      4516\n",
       "R21      3025\n",
       "R42      2199\n",
       "R43      1326\n",
       "Name: cat_Region, dtype: int64"
      ]
     },
     "execution_count": 35,
     "metadata": {},
     "output_type": "execute_result"
    }
   ],
   "source": [
    "data.cat_Region.value_counts()"
   ]
  },
  {
   "cell_type": "code",
   "execution_count": 49,
   "id": "30d6566c",
   "metadata": {},
   "outputs": [
    {
     "data": {
      "text/html": [
       "<div>\n",
       "<style scoped>\n",
       "    .dataframe tbody tr th:only-of-type {\n",
       "        vertical-align: middle;\n",
       "    }\n",
       "\n",
       "    .dataframe tbody tr th {\n",
       "        vertical-align: top;\n",
       "    }\n",
       "\n",
       "    .dataframe thead th {\n",
       "        text-align: right;\n",
       "    }\n",
       "</style>\n",
       "<table border=\"1\" class=\"dataframe\">\n",
       "  <thead>\n",
       "    <tr style=\"text-align: right;\">\n",
       "      <th></th>\n",
       "      <th>ord_vehicleHP</th>\n",
       "      <th>claim</th>\n",
       "      <th>claim_count</th>\n",
       "    </tr>\n",
       "  </thead>\n",
       "  <tbody>\n",
       "    <tr>\n",
       "      <th>5</th>\n",
       "      <td>9</td>\n",
       "      <td>0.055179</td>\n",
       "      <td>0.058338</td>\n",
       "    </tr>\n",
       "    <tr>\n",
       "      <th>1</th>\n",
       "      <td>5</td>\n",
       "      <td>0.055121</td>\n",
       "      <td>0.058318</td>\n",
       "    </tr>\n",
       "    <tr>\n",
       "      <th>6</th>\n",
       "      <td>10</td>\n",
       "      <td>0.053886</td>\n",
       "      <td>0.057076</td>\n",
       "    </tr>\n",
       "    <tr>\n",
       "      <th>2</th>\n",
       "      <td>6</td>\n",
       "      <td>0.053235</td>\n",
       "      <td>0.056257</td>\n",
       "    </tr>\n",
       "    <tr>\n",
       "      <th>3</th>\n",
       "      <td>7</td>\n",
       "      <td>0.049624</td>\n",
       "      <td>0.052444</td>\n",
       "    </tr>\n",
       "    <tr>\n",
       "      <th>10</th>\n",
       "      <td>14</td>\n",
       "      <td>0.046016</td>\n",
       "      <td>0.050703</td>\n",
       "    </tr>\n",
       "    <tr>\n",
       "      <th>0</th>\n",
       "      <td>4</td>\n",
       "      <td>0.046058</td>\n",
       "      <td>0.049388</td>\n",
       "    </tr>\n",
       "    <tr>\n",
       "      <th>7</th>\n",
       "      <td>11</td>\n",
       "      <td>0.045834</td>\n",
       "      <td>0.048831</td>\n",
       "    </tr>\n",
       "    <tr>\n",
       "      <th>9</th>\n",
       "      <td>13</td>\n",
       "      <td>0.045525</td>\n",
       "      <td>0.047383</td>\n",
       "    </tr>\n",
       "    <tr>\n",
       "      <th>8</th>\n",
       "      <td>12</td>\n",
       "      <td>0.041403</td>\n",
       "      <td>0.043717</td>\n",
       "    </tr>\n",
       "    <tr>\n",
       "      <th>11</th>\n",
       "      <td>15</td>\n",
       "      <td>0.041040</td>\n",
       "      <td>0.042408</td>\n",
       "    </tr>\n",
       "    <tr>\n",
       "      <th>4</th>\n",
       "      <td>8</td>\n",
       "      <td>0.038643</td>\n",
       "      <td>0.040943</td>\n",
       "    </tr>\n",
       "    <tr>\n",
       "      <th>12</th>\n",
       "      <td>16</td>\n",
       "      <td>0.037500</td>\n",
       "      <td>0.037500</td>\n",
       "    </tr>\n",
       "  </tbody>\n",
       "</table>\n",
       "</div>"
      ],
      "text/plain": [
       "    ord_vehicleHP     claim  claim_count\n",
       "5               9  0.055179     0.058338\n",
       "1               5  0.055121     0.058318\n",
       "6              10  0.053886     0.057076\n",
       "2               6  0.053235     0.056257\n",
       "3               7  0.049624     0.052444\n",
       "10             14  0.046016     0.050703\n",
       "0               4  0.046058     0.049388\n",
       "7              11  0.045834     0.048831\n",
       "9              13  0.045525     0.047383\n",
       "8              12  0.041403     0.043717\n",
       "11             15  0.041040     0.042408\n",
       "4               8  0.038643     0.040943\n",
       "12             16  0.037500     0.037500"
      ]
     },
     "execution_count": 49,
     "metadata": {},
     "output_type": "execute_result"
    }
   ],
   "source": [
    "(data[[\"ord_vehicleHP\", \"claim\",\"claim_count\"]].groupby(['ord_vehicleHP'], as_index=False).mean().sort_values(by='claim_count', ascending=False))"
   ]
  },
  {
   "cell_type": "markdown",
   "id": "649b9142",
   "metadata": {},
   "source": [
    "- By looking at the data above although it looks like the ordinals from 11 to 15 behave in a similar manner there isnt a clear correlation between the ordinal and the claims, so it would be wiser to use this column as a categorical value. "
   ]
  },
  {
   "cell_type": "code",
   "execution_count": 122,
   "id": "d97e0668",
   "metadata": {},
   "outputs": [],
   "source": [
    "data[\"ord_vehicleHP\"]=data[\"ord_vehicleHP\"].astype(\"category\")"
   ]
  },
  {
   "cell_type": "code",
   "execution_count": 48,
   "id": "0d0838fe",
   "metadata": {},
   "outputs": [
    {
     "data": {
      "text/html": [
       "<div>\n",
       "<style scoped>\n",
       "    .dataframe tbody tr th:only-of-type {\n",
       "        vertical-align: middle;\n",
       "    }\n",
       "\n",
       "    .dataframe tbody tr th {\n",
       "        vertical-align: top;\n",
       "    }\n",
       "\n",
       "    .dataframe thead th {\n",
       "        text-align: right;\n",
       "    }\n",
       "</style>\n",
       "<table border=\"1\" class=\"dataframe\">\n",
       "  <thead>\n",
       "    <tr style=\"text-align: right;\">\n",
       "      <th></th>\n",
       "      <th>cat_Region</th>\n",
       "      <th>claim</th>\n",
       "      <th>claim_count</th>\n",
       "    </tr>\n",
       "  </thead>\n",
       "  <tbody>\n",
       "    <tr>\n",
       "      <th>12</th>\n",
       "      <td>R53</td>\n",
       "      <td>0.061135</td>\n",
       "      <td>0.064150</td>\n",
       "    </tr>\n",
       "    <tr>\n",
       "      <th>9</th>\n",
       "      <td>R42</td>\n",
       "      <td>0.056389</td>\n",
       "      <td>0.060482</td>\n",
       "    </tr>\n",
       "    <tr>\n",
       "      <th>17</th>\n",
       "      <td>R82</td>\n",
       "      <td>0.056170</td>\n",
       "      <td>0.059380</td>\n",
       "    </tr>\n",
       "    <tr>\n",
       "      <th>5</th>\n",
       "      <td>R25</td>\n",
       "      <td>0.055545</td>\n",
       "      <td>0.058116</td>\n",
       "    </tr>\n",
       "    <tr>\n",
       "      <th>4</th>\n",
       "      <td>R24</td>\n",
       "      <td>0.054844</td>\n",
       "      <td>0.057310</td>\n",
       "    </tr>\n",
       "    <tr>\n",
       "      <th>0</th>\n",
       "      <td>R11</td>\n",
       "      <td>0.053214</td>\n",
       "      <td>0.057012</td>\n",
       "    </tr>\n",
       "    <tr>\n",
       "      <th>16</th>\n",
       "      <td>R74</td>\n",
       "      <td>0.052793</td>\n",
       "      <td>0.056517</td>\n",
       "    </tr>\n",
       "    <tr>\n",
       "      <th>2</th>\n",
       "      <td>R22</td>\n",
       "      <td>0.052671</td>\n",
       "      <td>0.054923</td>\n",
       "    </tr>\n",
       "    <tr>\n",
       "      <th>21</th>\n",
       "      <td>R94</td>\n",
       "      <td>0.048716</td>\n",
       "      <td>0.054694</td>\n",
       "    </tr>\n",
       "    <tr>\n",
       "      <th>1</th>\n",
       "      <td>R21</td>\n",
       "      <td>0.049256</td>\n",
       "      <td>0.052893</td>\n",
       "    </tr>\n",
       "    <tr>\n",
       "      <th>11</th>\n",
       "      <td>R52</td>\n",
       "      <td>0.049250</td>\n",
       "      <td>0.051857</td>\n",
       "    </tr>\n",
       "    <tr>\n",
       "      <th>13</th>\n",
       "      <td>R54</td>\n",
       "      <td>0.048309</td>\n",
       "      <td>0.050830</td>\n",
       "    </tr>\n",
       "    <tr>\n",
       "      <th>20</th>\n",
       "      <td>R93</td>\n",
       "      <td>0.045703</td>\n",
       "      <td>0.049260</td>\n",
       "    </tr>\n",
       "    <tr>\n",
       "      <th>6</th>\n",
       "      <td>R26</td>\n",
       "      <td>0.046520</td>\n",
       "      <td>0.048713</td>\n",
       "    </tr>\n",
       "    <tr>\n",
       "      <th>8</th>\n",
       "      <td>R41</td>\n",
       "      <td>0.045357</td>\n",
       "      <td>0.047051</td>\n",
       "    </tr>\n",
       "    <tr>\n",
       "      <th>19</th>\n",
       "      <td>R91</td>\n",
       "      <td>0.038748</td>\n",
       "      <td>0.043135</td>\n",
       "    </tr>\n",
       "    <tr>\n",
       "      <th>7</th>\n",
       "      <td>R31</td>\n",
       "      <td>0.040025</td>\n",
       "      <td>0.043104</td>\n",
       "    </tr>\n",
       "    <tr>\n",
       "      <th>14</th>\n",
       "      <td>R72</td>\n",
       "      <td>0.040319</td>\n",
       "      <td>0.043001</td>\n",
       "    </tr>\n",
       "    <tr>\n",
       "      <th>10</th>\n",
       "      <td>R43</td>\n",
       "      <td>0.040724</td>\n",
       "      <td>0.042986</td>\n",
       "    </tr>\n",
       "    <tr>\n",
       "      <th>15</th>\n",
       "      <td>R73</td>\n",
       "      <td>0.037813</td>\n",
       "      <td>0.040147</td>\n",
       "    </tr>\n",
       "    <tr>\n",
       "      <th>18</th>\n",
       "      <td>R83</td>\n",
       "      <td>0.034241</td>\n",
       "      <td>0.035755</td>\n",
       "    </tr>\n",
       "    <tr>\n",
       "      <th>3</th>\n",
       "      <td>R23</td>\n",
       "      <td>0.032332</td>\n",
       "      <td>0.034495</td>\n",
       "    </tr>\n",
       "  </tbody>\n",
       "</table>\n",
       "</div>"
      ],
      "text/plain": [
       "   cat_Region     claim  claim_count\n",
       "12        R53  0.061135     0.064150\n",
       "9         R42  0.056389     0.060482\n",
       "17        R82  0.056170     0.059380\n",
       "5         R25  0.055545     0.058116\n",
       "4         R24  0.054844     0.057310\n",
       "0         R11  0.053214     0.057012\n",
       "16        R74  0.052793     0.056517\n",
       "2         R22  0.052671     0.054923\n",
       "21        R94  0.048716     0.054694\n",
       "1         R21  0.049256     0.052893\n",
       "11        R52  0.049250     0.051857\n",
       "13        R54  0.048309     0.050830\n",
       "20        R93  0.045703     0.049260\n",
       "6         R26  0.046520     0.048713\n",
       "8         R41  0.045357     0.047051\n",
       "19        R91  0.038748     0.043135\n",
       "7         R31  0.040025     0.043104\n",
       "14        R72  0.040319     0.043001\n",
       "10        R43  0.040724     0.042986\n",
       "15        R73  0.037813     0.040147\n",
       "18        R83  0.034241     0.035755\n",
       "3         R23  0.032332     0.034495"
      ]
     },
     "execution_count": 48,
     "metadata": {},
     "output_type": "execute_result"
    }
   ],
   "source": [
    "(data[[\"cat_Region\", \"claim\", \"claim_count\"]].groupby(['cat_Region'], as_index=False).mean().sort_values(by='claim_count', ascending=False))"
   ]
  },
  {
   "cell_type": "code",
   "execution_count": 51,
   "id": "2d2bc215",
   "metadata": {},
   "outputs": [
    {
     "data": {
      "text/html": [
       "<div>\n",
       "<style scoped>\n",
       "    .dataframe tbody tr th:only-of-type {\n",
       "        vertical-align: middle;\n",
       "    }\n",
       "\n",
       "    .dataframe tbody tr th {\n",
       "        vertical-align: top;\n",
       "    }\n",
       "\n",
       "    .dataframe thead th {\n",
       "        text-align: right;\n",
       "    }\n",
       "</style>\n",
       "<table border=\"1\" class=\"dataframe\">\n",
       "  <thead>\n",
       "    <tr style=\"text-align: right;\">\n",
       "      <th></th>\n",
       "      <th>cat_areacode</th>\n",
       "      <th>claim</th>\n",
       "      <th>claim_count</th>\n",
       "    </tr>\n",
       "  </thead>\n",
       "  <tbody>\n",
       "    <tr>\n",
       "      <th>5</th>\n",
       "      <td>F</td>\n",
       "      <td>0.058778</td>\n",
       "      <td>0.063012</td>\n",
       "    </tr>\n",
       "    <tr>\n",
       "      <th>4</th>\n",
       "      <td>E</td>\n",
       "      <td>0.053202</td>\n",
       "      <td>0.056914</td>\n",
       "    </tr>\n",
       "    <tr>\n",
       "      <th>3</th>\n",
       "      <td>D</td>\n",
       "      <td>0.052043</td>\n",
       "      <td>0.055580</td>\n",
       "    </tr>\n",
       "    <tr>\n",
       "      <th>2</th>\n",
       "      <td>C</td>\n",
       "      <td>0.048758</td>\n",
       "      <td>0.051458</td>\n",
       "    </tr>\n",
       "    <tr>\n",
       "      <th>1</th>\n",
       "      <td>B</td>\n",
       "      <td>0.048118</td>\n",
       "      <td>0.050371</td>\n",
       "    </tr>\n",
       "    <tr>\n",
       "      <th>0</th>\n",
       "      <td>A</td>\n",
       "      <td>0.046458</td>\n",
       "      <td>0.048690</td>\n",
       "    </tr>\n",
       "  </tbody>\n",
       "</table>\n",
       "</div>"
      ],
      "text/plain": [
       "  cat_areacode     claim  claim_count\n",
       "5            F  0.058778     0.063012\n",
       "4            E  0.053202     0.056914\n",
       "3            D  0.052043     0.055580\n",
       "2            C  0.048758     0.051458\n",
       "1            B  0.048118     0.050371\n",
       "0            A  0.046458     0.048690"
      ]
     },
     "execution_count": 51,
     "metadata": {},
     "output_type": "execute_result"
    }
   ],
   "source": [
    "(data[[\"cat_areacode\", \"claim\", \"claim_count\"]].groupby(['cat_areacode'], as_index=False).mean().sort_values(by='claim_count', ascending=False))"
   ]
  },
  {
   "cell_type": "code",
   "execution_count": 64,
   "id": "511b949a",
   "metadata": {},
   "outputs": [
    {
     "data": {
      "text/html": [
       "<div>\n",
       "<style scoped>\n",
       "    .dataframe tbody tr th:only-of-type {\n",
       "        vertical-align: middle;\n",
       "    }\n",
       "\n",
       "    .dataframe tbody tr th {\n",
       "        vertical-align: top;\n",
       "    }\n",
       "\n",
       "    .dataframe thead th {\n",
       "        text-align: right;\n",
       "    }\n",
       "</style>\n",
       "<table border=\"1\" class=\"dataframe\">\n",
       "  <thead>\n",
       "    <tr style=\"text-align: right;\">\n",
       "      <th></th>\n",
       "      <th>cat_fuelType</th>\n",
       "      <th>claim</th>\n",
       "      <th>claim_count</th>\n",
       "    </tr>\n",
       "  </thead>\n",
       "  <tbody>\n",
       "    <tr>\n",
       "      <th>1</th>\n",
       "      <td>Electric</td>\n",
       "      <td>0.200000</td>\n",
       "      <td>0.200000</td>\n",
       "    </tr>\n",
       "    <tr>\n",
       "      <th>2</th>\n",
       "      <td>Regular</td>\n",
       "      <td>0.053051</td>\n",
       "      <td>0.056241</td>\n",
       "    </tr>\n",
       "    <tr>\n",
       "      <th>0</th>\n",
       "      <td>Diesel</td>\n",
       "      <td>0.047291</td>\n",
       "      <td>0.050116</td>\n",
       "    </tr>\n",
       "  </tbody>\n",
       "</table>\n",
       "</div>"
      ],
      "text/plain": [
       "  cat_fuelType     claim  claim_count\n",
       "1     Electric  0.200000     0.200000\n",
       "2      Regular  0.053051     0.056241\n",
       "0       Diesel  0.047291     0.050116"
      ]
     },
     "execution_count": 64,
     "metadata": {},
     "output_type": "execute_result"
    }
   ],
   "source": [
    "(data[[\"cat_fuelType\", \"claim\", \"claim_count\"]].groupby(['cat_fuelType'], as_index=False).mean().sort_values(by='claim_count', ascending=False))"
   ]
  },
  {
   "cell_type": "code",
   "execution_count": 121,
   "id": "fca64dc5",
   "metadata": {},
   "outputs": [
    {
     "data": {
      "text/html": [
       "<div>\n",
       "<style scoped>\n",
       "    .dataframe tbody tr th:only-of-type {\n",
       "        vertical-align: middle;\n",
       "    }\n",
       "\n",
       "    .dataframe tbody tr th {\n",
       "        vertical-align: top;\n",
       "    }\n",
       "\n",
       "    .dataframe thead th {\n",
       "        text-align: right;\n",
       "    }\n",
       "</style>\n",
       "<table border=\"1\" class=\"dataframe\">\n",
       "  <thead>\n",
       "    <tr style=\"text-align: right;\">\n",
       "      <th></th>\n",
       "      <th>cat_carBrand</th>\n",
       "      <th>claim</th>\n",
       "      <th>claim_count</th>\n",
       "    </tr>\n",
       "  </thead>\n",
       "  <tbody>\n",
       "    <tr>\n",
       "      <th>9</th>\n",
       "      <td>B5</td>\n",
       "      <td>0.055111</td>\n",
       "      <td>0.058133</td>\n",
       "    </tr>\n",
       "    <tr>\n",
       "      <th>6</th>\n",
       "      <td>B2</td>\n",
       "      <td>0.050847</td>\n",
       "      <td>0.053550</td>\n",
       "    </tr>\n",
       "    <tr>\n",
       "      <th>3</th>\n",
       "      <td>B12</td>\n",
       "      <td>0.049717</td>\n",
       "      <td>0.053343</td>\n",
       "    </tr>\n",
       "    <tr>\n",
       "      <th>0</th>\n",
       "      <td>B1</td>\n",
       "      <td>0.050248</td>\n",
       "      <td>0.053321</td>\n",
       "    </tr>\n",
       "    <tr>\n",
       "      <th>4</th>\n",
       "      <td>B13</td>\n",
       "      <td>0.050349</td>\n",
       "      <td>0.053306</td>\n",
       "    </tr>\n",
       "    <tr>\n",
       "      <th>2</th>\n",
       "      <td>B11</td>\n",
       "      <td>0.050136</td>\n",
       "      <td>0.053081</td>\n",
       "    </tr>\n",
       "    <tr>\n",
       "      <th>7</th>\n",
       "      <td>B3</td>\n",
       "      <td>0.049999</td>\n",
       "      <td>0.052753</td>\n",
       "    </tr>\n",
       "    <tr>\n",
       "      <th>8</th>\n",
       "      <td>B4</td>\n",
       "      <td>0.049805</td>\n",
       "      <td>0.052109</td>\n",
       "    </tr>\n",
       "    <tr>\n",
       "      <th>10</th>\n",
       "      <td>B6</td>\n",
       "      <td>0.048633</td>\n",
       "      <td>0.051226</td>\n",
       "    </tr>\n",
       "    <tr>\n",
       "      <th>1</th>\n",
       "      <td>B10</td>\n",
       "      <td>0.046145</td>\n",
       "      <td>0.048461</td>\n",
       "    </tr>\n",
       "    <tr>\n",
       "      <th>5</th>\n",
       "      <td>B14</td>\n",
       "      <td>0.039565</td>\n",
       "      <td>0.041048</td>\n",
       "    </tr>\n",
       "  </tbody>\n",
       "</table>\n",
       "</div>"
      ],
      "text/plain": [
       "   cat_carBrand     claim  claim_count\n",
       "9            B5  0.055111     0.058133\n",
       "6            B2  0.050847     0.053550\n",
       "3           B12  0.049717     0.053343\n",
       "0            B1  0.050248     0.053321\n",
       "4           B13  0.050349     0.053306\n",
       "2           B11  0.050136     0.053081\n",
       "7            B3  0.049999     0.052753\n",
       "8            B4  0.049805     0.052109\n",
       "10           B6  0.048633     0.051226\n",
       "1           B10  0.046145     0.048461\n",
       "5           B14  0.039565     0.041048"
      ]
     },
     "execution_count": 121,
     "metadata": {},
     "output_type": "execute_result"
    }
   ],
   "source": [
    "(data[[\"cat_carBrand\", \"claim\", \"claim_count\"]].groupby(['cat_carBrand'], as_index=False).mean().sort_values(by='claim_count', ascending=False))"
   ]
  },
  {
   "cell_type": "markdown",
   "id": "836b841e",
   "metadata": {},
   "source": [
    "- We can see that there is a slight difference in the different categories.\n",
    "- To work with these categorical variables in the model my plan is to use the ones with a low amount of categories(cat_fuelType,cat_areacode) with a dummy encoder and the other ones with a target encoder."
   ]
  },
  {
   "cell_type": "code",
   "execution_count": 58,
   "id": "51e3df76",
   "metadata": {},
   "outputs": [
    {
     "data": {
      "image/png": "[encoded data removed]",
      "text/plain": [
       "<Figure size 432x288 with 2 Axes>"
      ]
     },
     "metadata": {
      "needs_background": "light"
     },
     "output_type": "display_data"
    }
   ],
   "source": [
    "matrix = data.drop(\"claim\").corr()\n",
    "sb.heatmap(matrix, annot=True)\n",
    "plt.show()"
   ]
  },
  {
   "cell_type": "markdown",
   "id": "fbfd5c24",
   "metadata": {},
   "source": [
    "Looking at the correlation chart we see that the linear correlation is low so any relation to claim_count if it exist it must be non linear. So the model we train should try to catch those non-linearities.\n",
    "\n",
    "Now we proceed to look at the distribution of the numerical variables divided between those that made a lcame and those that didn't."
   ]
  },
  {
   "cell_type": "code",
   "execution_count": 109,
   "id": "5a40ec34",
   "metadata": {},
   "outputs": [
    {
     "data": {
      "text/plain": [
       "<seaborn.axisgrid.FacetGrid at 0x233c0024820>"
      ]
     },
     "execution_count": 109,
     "metadata": {},
     "output_type": "execute_result"
    },
    {
     "data": {
      "image/png": "[encoded data removed]",
      "text/plain": [
       "<Figure size 432x216 with 2 Axes>"
      ]
     },
     "metadata": {
      "needs_background": "light"
     },
     "output_type": "display_data"
    }
   ],
   "source": [
    "g = sb.FacetGrid(data, col='claim')\n",
    "g.map(plt.hist, 'num_vehicleAge', bins=50, density=True)"
   ]
  },
  {
   "cell_type": "code",
   "execution_count": 111,
   "id": "9b3e8697",
   "metadata": {},
   "outputs": [
    {
     "data": {
      "text/plain": [
       "<seaborn.axisgrid.FacetGrid at 0x233b6fe0dc0>"
      ]
     },
     "execution_count": 111,
     "metadata": {},
     "output_type": "execute_result"
    },
    {
     "data": {
      "image/png": "[encoded data removed]",
      "text/plain": [
       "<Figure size 432x216 with 2 Axes>"
      ]
     },
     "metadata": {
      "needs_background": "light"
     },
     "output_type": "display_data"
    }
   ],
   "source": [
    "g = sb.FacetGrid(data, col='claim')\n",
    "g.map(plt.hist, 'num_noClaimDiscountPercent', bins=50, density=True)"
   ]
  },
  {
   "cell_type": "code",
   "execution_count": 117,
   "id": "dd08b12c",
   "metadata": {},
   "outputs": [
    {
     "data": {
      "text/plain": [
       "<seaborn.axisgrid.FacetGrid at 0x233b945d850>"
      ]
     },
     "execution_count": 117,
     "metadata": {},
     "output_type": "execute_result"
    },
    {
     "data": {
      "image/png": "[encoded data removed]",
      "text/plain": [
       "<Figure size 432x216 with 2 Axes>"
      ]
     },
     "metadata": {
      "needs_background": "light"
     },
     "output_type": "display_data"
    }
   ],
   "source": [
    "g = sb.FacetGrid(data, col='claim')\n",
    "g.map(plt.hist, 'num_populationDensitykmsq', bins=60, density=True)"
   ]
  },
  {
   "cell_type": "code",
   "execution_count": 113,
   "id": "97046e78",
   "metadata": {},
   "outputs": [
    {
     "data": {
      "text/plain": [
       "<seaborn.axisgrid.FacetGrid at 0x233b71f7850>"
      ]
     },
     "execution_count": 113,
     "metadata": {},
     "output_type": "execute_result"
    },
    {
     "data": {
      "image/png": "[encoded data removed]",
      "text/plain": [
       "<Figure size 432x216 with 2 Axes>"
      ]
     },
     "metadata": {
      "needs_background": "light"
     },
     "output_type": "display_data"
    }
   ],
   "source": [
    "g = sb.FacetGrid(data, col='claim')\n",
    "g.map(plt.hist, 'num_exposure', bins=50, density=True)"
   ]
  },
  {
   "cell_type": "code",
   "execution_count": 114,
   "id": "adbaf21e",
   "metadata": {},
   "outputs": [
    {
     "data": {
      "text/plain": [
       "<seaborn.axisgrid.FacetGrid at 0x233b69eaac0>"
      ]
     },
     "execution_count": 114,
     "metadata": {},
     "output_type": "execute_result"
    },
    {
     "data": {
      "image/png": "[encoded data removed]",
      "text/plain": [
       "<Figure size 432x216 with 2 Axes>"
      ]
     },
     "metadata": {
      "needs_background": "light"
     },
     "output_type": "display_data"
    }
   ],
   "source": [
    "g = sb.FacetGrid(data, col='claim')\n",
    "g.map(plt.hist, 'num_driverAge', bins=50, density=True)"
   ]
  },
  {
   "cell_type": "markdown",
   "id": "adc277d4",
   "metadata": {},
   "source": [
    "Overall they look very similar the one that stood out the most was the drivers age"
   ]
  },
  {
   "cell_type": "markdown",
   "id": "a93b72f4",
   "metadata": {},
   "source": [
    "# ML Modeling"
   ]
  },
  {
   "cell_type": "markdown",
   "id": "7b158a30",
   "metadata": {},
   "source": [
    "Now on to the model we start by sepparating the dataset into train and test, keeping the ratio of claimed cases the same in the two segments. We also need the column claim and claim_count as two sepparate columns to predict. "
   ]
  },
  {
   "cell_type": "code",
   "execution_count": 324,
   "id": "6fe91a04",
   "metadata": {},
   "outputs": [],
   "source": [
    "y1=data['claim'].astype(\"category\")\n",
    "\n",
    "X_train, X_test, y1_train, y1_test = train_test_split(data.drop(\"claim\",axis=1), y1, test_size=0.2, stratify=y1, random_state=42)\n",
    "\n",
    "y2_train=X_train[\"claim_count\"].loc[(data['claim_count']>0)]\n",
    "y2_test=X_test[\"claim_count\"].loc[(data['claim_count']>0)]\n",
    "\n",
    "X2_train=X_train.drop(\"claim_count\",axis=1).loc[(data['claim_count']>0)]\n",
    "X2_test=X_test.drop(\"claim_count\",axis=1).loc[(data['claim_count']>0)]\n",
    "\n",
    "y_train=X_train[\"claim_count\"]                                            \n",
    "y_test=X_test[\"claim_count\"] \n",
    "                                              \n",
    "X_train=X_train.drop(\"claim_count\",axis=1)\n",
    "X_test=X_test.drop(\"claim_count\",axis=1)\n",
    "                                              \n",
    "                                              "
   ]
  },
  {
   "cell_type": "markdown",
   "id": "377e185c",
   "metadata": {},
   "source": [
    "First we construct the encoders for each set of categorical values. While looking for the target encoder I found the GLMMEncoder that fits a linear model and uses the coefficients to encode the variables. The otehr encoder is a one hot encoder to turn each category into a column. "
   ]
  },
  {
   "cell_type": "code",
   "execution_count": 184,
   "id": "a75bb24d",
   "metadata": {},
   "outputs": [],
   "source": [
    "onehotenc2 = ce.one_hot.OneHotEncoder(verbose=0, cols=[\"cat_fuelType\",\"cat_areacode\"], return_df=True, handle_missing='value', handle_unknown='value', use_cat_names=True)\n",
    "binglmmenc2 = ce.glmm.GLMMEncoder(verbose=0, cols=[\"cat_carBrand\",\"cat_Region\",\"ord_vehicleHP\"], return_df=True, handle_unknown='value', handle_missing='value', random_state=42, binomial_target=True)"
   ]
  },
  {
   "cell_type": "markdown",
   "id": "8d46e4e0",
   "metadata": {},
   "source": [
    "Now that we have the encoders we are going to join them into a single pipeline"
   ]
  },
  {
   "cell_type": "code",
   "execution_count": 305,
   "id": "1ab5a3e7",
   "metadata": {},
   "outputs": [],
   "source": [
    "class InputProcessing(BaseEstimator, TransformerMixin):\n",
    "\n",
    "    def fit(self, X, y=None):\n",
    "\n",
    "        return self\n",
    "\n",
    "    def transform(self, X):\n",
    "        X = X.astype({'ord_vehicleHP': 'str'})\n",
    "        X.loc[(X['ord_vehicleHP'].astype(\"int64\") >16 ), 'ord_vehicleHP'] = 16\n",
    "        X = X.astype({'ord_vehicleHP': 'category'})\n",
    "\n",
    "\n",
    "        return X"
   ]
  },
  {
   "cell_type": "code",
   "execution_count": 306,
   "id": "4711fb88",
   "metadata": {},
   "outputs": [],
   "source": [
    "class ModelRegTransformer(BaseEstimator, TransformerMixin):\n",
    "    def __init__(self, model):\n",
    "        self.model = model\n",
    "    def fit(self, *args, **kwargs):\n",
    "        self.model.fit(*args, **kwargs)\n",
    "        return self\n",
    "    def transform(self, X, **transform_params):\n",
    "        return self.model.transform(X)\n",
    "class ModelRegPred(BaseEstimator, TransformerMixin):\n",
    "    def __init__(self, model):\n",
    "        self.model = model\n",
    "    def fit(self, *args, **kwargs):\n",
    "        self.model.fit(*args, **kwargs)\n",
    "        return self\n",
    "    def predict(self, X, **transform_params):\n",
    "        return self.model.predict(X)"
   ]
  },
  {
   "cell_type": "code",
   "execution_count": 307,
   "id": "110df083",
   "metadata": {},
   "outputs": [],
   "source": [
    "data_pipeline = Pipeline([\n",
    "        ('pre_pipeline', InputProcessing()),\n",
    "        ('glmm_encoder', ModelRegTransformer(binglmmenc2)),\n",
    "        ('dummy_encoder', ModelRegTransformer(onehotenc2)) ])"
   ]
  },
  {
   "cell_type": "markdown",
   "id": "0ac5b07e",
   "metadata": {},
   "source": [
    "Now that we have the pipeline we can fit it so we can transform any incoming data"
   ]
  },
  {
   "cell_type": "code",
   "execution_count": 186,
   "id": "de8ab53e",
   "metadata": {
    "scrolled": true
   },
   "outputs": [
    {
     "data": {
      "text/plain": [
       "Pipeline(steps=[('pre_pipeline', InputProcessing()),\n",
       "                ('glmm_encoder',\n",
       "                 ModelRegTransformer(model=GLMMEncoder(binomial_target=True,\n",
       "                                                       cols=['cat_carBrand',\n",
       "                                                             'cat_Region',\n",
       "                                                             'ord_vehicleHP'],\n",
       "                                                       random_state=42))),\n",
       "                ('dummy_encoder',\n",
       "                 ModelRegTransformer(model=OneHotEncoder(cols=['cat_fuelType',\n",
       "                                                               'cat_areacode'],\n",
       "                                                         use_cat_names=True)))])"
      ]
     },
     "execution_count": 186,
     "metadata": {},
     "output_type": "execute_result"
    }
   ],
   "source": [
    "data_pipeline.fit(X_train,y1_train)"
   ]
  },
  {
   "cell_type": "markdown",
   "id": "98c229dc",
   "metadata": {},
   "source": [
    "For the model I decided to use a gradient boosted trees model.\n",
    "To take into account the imbalanced calsses I decided to add a class weight to improve the classification of the samples that have a claim. I will use 0.6 as the weight for no claims and 9 for claims (I could add this as another hyperparameter for tunning), this way the model will prioritize those samples with claims.\n",
    "Would have used a bigger amount of estimators but ran out of time to make all the computations.\n"
   ]
  },
  {
   "cell_type": "code",
   "execution_count": 219,
   "id": "0151b989",
   "metadata": {},
   "outputs": [
    {
     "name": "stdout",
     "output_type": "stream",
     "text": [
      "Fitting 3 folds for each of 8 candidates, totalling 24 fits\n"
     ]
    },
    {
     "name": "stderr",
     "output_type": "stream",
     "text": [
      "C:\\Users\\Santiago desk\\miniconda3\\envs\\py38\\lib\\site-packages\\sklearn\\base.py:445: UserWarning: X does not have valid feature names, but GradientBoostingClassifier was fitted with feature names\n",
      "  warnings.warn(\n"
     ]
    },
    {
     "name": "stdout",
     "output_type": "stream",
     "text": [
      "[CV] END criterion=friedman_mse, learning_rate=0.001, max_depth=5, max_features=auto, min_impurity_decrease=0, n_estimators=100, n_iter_no_change=10, subsample=0.8, tol=0.001, validation_fraction=0.2; total time=  53.2s\n"
     ]
    },
    {
     "name": "stderr",
     "output_type": "stream",
     "text": [
      "C:\\Users\\Santiago desk\\miniconda3\\envs\\py38\\lib\\site-packages\\sklearn\\base.py:445: UserWarning: X does not have valid feature names, but GradientBoostingClassifier was fitted with feature names\n",
      "  warnings.warn(\n"
     ]
    },
    {
     "name": "stdout",
     "output_type": "stream",
     "text": [
      "[CV] END criterion=friedman_mse, learning_rate=0.001, max_depth=5, max_features=auto, min_impurity_decrease=0, n_estimators=100, n_iter_no_change=10, subsample=0.8, tol=0.001, validation_fraction=0.2; total time=  52.6s\n"
     ]
    },
    {
     "name": "stderr",
     "output_type": "stream",
     "text": [
      "C:\\Users\\Santiago desk\\miniconda3\\envs\\py38\\lib\\site-packages\\sklearn\\base.py:445: UserWarning: X does not have valid feature names, but GradientBoostingClassifier was fitted with feature names\n",
      "  warnings.warn(\n"
     ]
    },
    {
     "name": "stdout",
     "output_type": "stream",
     "text": [
      "[CV] END criterion=friedman_mse, learning_rate=0.001, max_depth=5, max_features=auto, min_impurity_decrease=0, n_estimators=100, n_iter_no_change=10, subsample=0.8, tol=0.001, validation_fraction=0.2; total time=  52.7s\n"
     ]
    },
    {
     "name": "stderr",
     "output_type": "stream",
     "text": [
      "C:\\Users\\Santiago desk\\miniconda3\\envs\\py38\\lib\\site-packages\\sklearn\\base.py:445: UserWarning: X does not have valid feature names, but GradientBoostingClassifier was fitted with feature names\n",
      "  warnings.warn(\n"
     ]
    },
    {
     "name": "stdout",
     "output_type": "stream",
     "text": [
      "[CV] END criterion=friedman_mse, learning_rate=0.001, max_depth=5, max_features=auto, min_impurity_decrease=0.1, n_estimators=100, n_iter_no_change=10, subsample=0.8, tol=0.001, validation_fraction=0.2; total time=  52.6s\n"
     ]
    },
    {
     "name": "stderr",
     "output_type": "stream",
     "text": [
      "C:\\Users\\Santiago desk\\miniconda3\\envs\\py38\\lib\\site-packages\\sklearn\\base.py:445: UserWarning: X does not have valid feature names, but GradientBoostingClassifier was fitted with feature names\n",
      "  warnings.warn(\n"
     ]
    },
    {
     "name": "stdout",
     "output_type": "stream",
     "text": [
      "[CV] END criterion=friedman_mse, learning_rate=0.001, max_depth=5, max_features=auto, min_impurity_decrease=0.1, n_estimators=100, n_iter_no_change=10, subsample=0.8, tol=0.001, validation_fraction=0.2; total time=  53.4s\n"
     ]
    },
    {
     "name": "stderr",
     "output_type": "stream",
     "text": [
      "C:\\Users\\Santiago desk\\miniconda3\\envs\\py38\\lib\\site-packages\\sklearn\\base.py:445: UserWarning: X does not have valid feature names, but GradientBoostingClassifier was fitted with feature names\n",
      "  warnings.warn(\n"
     ]
    },
    {
     "name": "stdout",
     "output_type": "stream",
     "text": [
      "[CV] END criterion=friedman_mse, learning_rate=0.001, max_depth=5, max_features=auto, min_impurity_decrease=0.1, n_estimators=100, n_iter_no_change=10, subsample=0.8, tol=0.001, validation_fraction=0.2; total time=  53.4s\n"
     ]
    },
    {
     "name": "stderr",
     "output_type": "stream",
     "text": [
      "C:\\Users\\Santiago desk\\miniconda3\\envs\\py38\\lib\\site-packages\\sklearn\\base.py:445: UserWarning: X does not have valid feature names, but GradientBoostingClassifier was fitted with feature names\n",
      "  warnings.warn(\n"
     ]
    },
    {
     "name": "stdout",
     "output_type": "stream",
     "text": [
      "[CV] END criterion=friedman_mse, learning_rate=0.001, max_depth=11, max_features=auto, min_impurity_decrease=0, n_estimators=100, n_iter_no_change=10, subsample=0.8, tol=0.001, validation_fraction=0.2; total time= 2.2min\n"
     ]
    },
    {
     "name": "stderr",
     "output_type": "stream",
     "text": [
      "C:\\Users\\Santiago desk\\miniconda3\\envs\\py38\\lib\\site-packages\\sklearn\\base.py:445: UserWarning: X does not have valid feature names, but GradientBoostingClassifier was fitted with feature names\n",
      "  warnings.warn(\n"
     ]
    },
    {
     "name": "stdout",
     "output_type": "stream",
     "text": [
      "[CV] END criterion=friedman_mse, learning_rate=0.001, max_depth=11, max_features=auto, min_impurity_decrease=0, n_estimators=100, n_iter_no_change=10, subsample=0.8, tol=0.001, validation_fraction=0.2; total time= 2.1min\n"
     ]
    },
    {
     "name": "stderr",
     "output_type": "stream",
     "text": [
      "C:\\Users\\Santiago desk\\miniconda3\\envs\\py38\\lib\\site-packages\\sklearn\\base.py:445: UserWarning: X does not have valid feature names, but GradientBoostingClassifier was fitted with feature names\n",
      "  warnings.warn(\n"
     ]
    },
    {
     "name": "stdout",
     "output_type": "stream",
     "text": [
      "[CV] END criterion=friedman_mse, learning_rate=0.001, max_depth=11, max_features=auto, min_impurity_decrease=0, n_estimators=100, n_iter_no_change=10, subsample=0.8, tol=0.001, validation_fraction=0.2; total time= 2.1min\n"
     ]
    },
    {
     "name": "stderr",
     "output_type": "stream",
     "text": [
      "C:\\Users\\Santiago desk\\miniconda3\\envs\\py38\\lib\\site-packages\\sklearn\\base.py:445: UserWarning: X does not have valid feature names, but GradientBoostingClassifier was fitted with feature names\n",
      "  warnings.warn(\n"
     ]
    },
    {
     "name": "stdout",
     "output_type": "stream",
     "text": [
      "[CV] END criterion=friedman_mse, learning_rate=0.001, max_depth=11, max_features=auto, min_impurity_decrease=0.1, n_estimators=100, n_iter_no_change=10, subsample=0.8, tol=0.001, validation_fraction=0.2; total time= 1.9min\n"
     ]
    },
    {
     "name": "stderr",
     "output_type": "stream",
     "text": [
      "C:\\Users\\Santiago desk\\miniconda3\\envs\\py38\\lib\\site-packages\\sklearn\\base.py:445: UserWarning: X does not have valid feature names, but GradientBoostingClassifier was fitted with feature names\n",
      "  warnings.warn(\n"
     ]
    },
    {
     "name": "stdout",
     "output_type": "stream",
     "text": [
      "[CV] END criterion=friedman_mse, learning_rate=0.001, max_depth=11, max_features=auto, min_impurity_decrease=0.1, n_estimators=100, n_iter_no_change=10, subsample=0.8, tol=0.001, validation_fraction=0.2; total time= 1.9min\n"
     ]
    },
    {
     "name": "stderr",
     "output_type": "stream",
     "text": [
      "C:\\Users\\Santiago desk\\miniconda3\\envs\\py38\\lib\\site-packages\\sklearn\\base.py:445: UserWarning: X does not have valid feature names, but GradientBoostingClassifier was fitted with feature names\n",
      "  warnings.warn(\n"
     ]
    },
    {
     "name": "stdout",
     "output_type": "stream",
     "text": [
      "[CV] END criterion=friedman_mse, learning_rate=0.001, max_depth=11, max_features=auto, min_impurity_decrease=0.1, n_estimators=100, n_iter_no_change=10, subsample=0.8, tol=0.001, validation_fraction=0.2; total time= 1.9min\n"
     ]
    },
    {
     "name": "stderr",
     "output_type": "stream",
     "text": [
      "C:\\Users\\Santiago desk\\miniconda3\\envs\\py38\\lib\\site-packages\\sklearn\\base.py:445: UserWarning: X does not have valid feature names, but GradientBoostingClassifier was fitted with feature names\n",
      "  warnings.warn(\n"
     ]
    },
    {
     "name": "stdout",
     "output_type": "stream",
     "text": [
      "[CV] END criterion=friedman_mse, learning_rate=0.1, max_depth=5, max_features=auto, min_impurity_decrease=0, n_estimators=100, n_iter_no_change=10, subsample=0.8, tol=0.001, validation_fraction=0.2; total time=  42.9s\n"
     ]
    },
    {
     "name": "stderr",
     "output_type": "stream",
     "text": [
      "C:\\Users\\Santiago desk\\miniconda3\\envs\\py38\\lib\\site-packages\\sklearn\\base.py:445: UserWarning: X does not have valid feature names, but GradientBoostingClassifier was fitted with feature names\n",
      "  warnings.warn(\n"
     ]
    },
    {
     "name": "stdout",
     "output_type": "stream",
     "text": [
      "[CV] END criterion=friedman_mse, learning_rate=0.1, max_depth=5, max_features=auto, min_impurity_decrease=0, n_estimators=100, n_iter_no_change=10, subsample=0.8, tol=0.001, validation_fraction=0.2; total time=  31.1s\n"
     ]
    },
    {
     "name": "stderr",
     "output_type": "stream",
     "text": [
      "C:\\Users\\Santiago desk\\miniconda3\\envs\\py38\\lib\\site-packages\\sklearn\\base.py:445: UserWarning: X does not have valid feature names, but GradientBoostingClassifier was fitted with feature names\n",
      "  warnings.warn(\n"
     ]
    },
    {
     "name": "stdout",
     "output_type": "stream",
     "text": [
      "[CV] END criterion=friedman_mse, learning_rate=0.1, max_depth=5, max_features=auto, min_impurity_decrease=0, n_estimators=100, n_iter_no_change=10, subsample=0.8, tol=0.001, validation_fraction=0.2; total time=  36.3s\n"
     ]
    },
    {
     "name": "stderr",
     "output_type": "stream",
     "text": [
      "C:\\Users\\Santiago desk\\miniconda3\\envs\\py38\\lib\\site-packages\\sklearn\\base.py:445: UserWarning: X does not have valid feature names, but GradientBoostingClassifier was fitted with feature names\n",
      "  warnings.warn(\n"
     ]
    },
    {
     "name": "stdout",
     "output_type": "stream",
     "text": [
      "[CV] END criterion=friedman_mse, learning_rate=0.1, max_depth=5, max_features=auto, min_impurity_decrease=0.1, n_estimators=100, n_iter_no_change=10, subsample=0.8, tol=0.001, validation_fraction=0.2; total time=  41.8s\n"
     ]
    },
    {
     "name": "stderr",
     "output_type": "stream",
     "text": [
      "C:\\Users\\Santiago desk\\miniconda3\\envs\\py38\\lib\\site-packages\\sklearn\\base.py:445: UserWarning: X does not have valid feature names, but GradientBoostingClassifier was fitted with feature names\n",
      "  warnings.warn(\n"
     ]
    },
    {
     "name": "stdout",
     "output_type": "stream",
     "text": [
      "[CV] END criterion=friedman_mse, learning_rate=0.1, max_depth=5, max_features=auto, min_impurity_decrease=0.1, n_estimators=100, n_iter_no_change=10, subsample=0.8, tol=0.001, validation_fraction=0.2; total time=  31.1s\n"
     ]
    },
    {
     "name": "stderr",
     "output_type": "stream",
     "text": [
      "C:\\Users\\Santiago desk\\miniconda3\\envs\\py38\\lib\\site-packages\\sklearn\\base.py:445: UserWarning: X does not have valid feature names, but GradientBoostingClassifier was fitted with feature names\n",
      "  warnings.warn(\n"
     ]
    },
    {
     "name": "stdout",
     "output_type": "stream",
     "text": [
      "[CV] END criterion=friedman_mse, learning_rate=0.1, max_depth=5, max_features=auto, min_impurity_decrease=0.1, n_estimators=100, n_iter_no_change=10, subsample=0.8, tol=0.001, validation_fraction=0.2; total time=  30.3s\n"
     ]
    },
    {
     "name": "stderr",
     "output_type": "stream",
     "text": [
      "C:\\Users\\Santiago desk\\miniconda3\\envs\\py38\\lib\\site-packages\\sklearn\\base.py:445: UserWarning: X does not have valid feature names, but GradientBoostingClassifier was fitted with feature names\n",
      "  warnings.warn(\n"
     ]
    },
    {
     "name": "stdout",
     "output_type": "stream",
     "text": [
      "[CV] END criterion=friedman_mse, learning_rate=0.1, max_depth=11, max_features=auto, min_impurity_decrease=0, n_estimators=100, n_iter_no_change=10, subsample=0.8, tol=0.001, validation_fraction=0.2; total time=  26.9s\n"
     ]
    },
    {
     "name": "stderr",
     "output_type": "stream",
     "text": [
      "C:\\Users\\Santiago desk\\miniconda3\\envs\\py38\\lib\\site-packages\\sklearn\\base.py:445: UserWarning: X does not have valid feature names, but GradientBoostingClassifier was fitted with feature names\n",
      "  warnings.warn(\n"
     ]
    },
    {
     "name": "stdout",
     "output_type": "stream",
     "text": [
      "[CV] END criterion=friedman_mse, learning_rate=0.1, max_depth=11, max_features=auto, min_impurity_decrease=0, n_estimators=100, n_iter_no_change=10, subsample=0.8, tol=0.001, validation_fraction=0.2; total time=  25.8s\n"
     ]
    },
    {
     "name": "stderr",
     "output_type": "stream",
     "text": [
      "C:\\Users\\Santiago desk\\miniconda3\\envs\\py38\\lib\\site-packages\\sklearn\\base.py:445: UserWarning: X does not have valid feature names, but GradientBoostingClassifier was fitted with feature names\n",
      "  warnings.warn(\n"
     ]
    },
    {
     "name": "stdout",
     "output_type": "stream",
     "text": [
      "[CV] END criterion=friedman_mse, learning_rate=0.1, max_depth=11, max_features=auto, min_impurity_decrease=0, n_estimators=100, n_iter_no_change=10, subsample=0.8, tol=0.001, validation_fraction=0.2; total time=  27.1s\n"
     ]
    },
    {
     "name": "stderr",
     "output_type": "stream",
     "text": [
      "C:\\Users\\Santiago desk\\miniconda3\\envs\\py38\\lib\\site-packages\\sklearn\\base.py:445: UserWarning: X does not have valid feature names, but GradientBoostingClassifier was fitted with feature names\n",
      "  warnings.warn(\n"
     ]
    },
    {
     "name": "stdout",
     "output_type": "stream",
     "text": [
      "[CV] END criterion=friedman_mse, learning_rate=0.1, max_depth=11, max_features=auto, min_impurity_decrease=0.1, n_estimators=100, n_iter_no_change=10, subsample=0.8, tol=0.001, validation_fraction=0.2; total time=  24.3s\n"
     ]
    },
    {
     "name": "stderr",
     "output_type": "stream",
     "text": [
      "C:\\Users\\Santiago desk\\miniconda3\\envs\\py38\\lib\\site-packages\\sklearn\\base.py:445: UserWarning: X does not have valid feature names, but GradientBoostingClassifier was fitted with feature names\n",
      "  warnings.warn(\n"
     ]
    },
    {
     "name": "stdout",
     "output_type": "stream",
     "text": [
      "[CV] END criterion=friedman_mse, learning_rate=0.1, max_depth=11, max_features=auto, min_impurity_decrease=0.1, n_estimators=100, n_iter_no_change=10, subsample=0.8, tol=0.001, validation_fraction=0.2; total time=  24.6s\n"
     ]
    },
    {
     "name": "stderr",
     "output_type": "stream",
     "text": [
      "C:\\Users\\Santiago desk\\miniconda3\\envs\\py38\\lib\\site-packages\\sklearn\\base.py:445: UserWarning: X does not have valid feature names, but GradientBoostingClassifier was fitted with feature names\n",
      "  warnings.warn(\n"
     ]
    },
    {
     "name": "stdout",
     "output_type": "stream",
     "text": [
      "[CV] END criterion=friedman_mse, learning_rate=0.1, max_depth=11, max_features=auto, min_impurity_decrease=0.1, n_estimators=100, n_iter_no_change=10, subsample=0.8, tol=0.001, validation_fraction=0.2; total time=  24.7s\n"
     ]
    },
    {
     "name": "stderr",
     "output_type": "stream",
     "text": [
      "C:\\Users\\Santiago desk\\miniconda3\\envs\\py38\\lib\\site-packages\\sklearn\\base.py:445: UserWarning: X does not have valid feature names, but GradientBoostingClassifier was fitted with feature names\n",
      "  warnings.warn(\n"
     ]
    }
   ],
   "source": [
    "param_grid = {'max_depth': [5, 11],\n",
    "              \"learning_rate\": [0.001, 0.1],\n",
    "              \"criterion\": [\"friedman_mse\"],\n",
    "              \"min_impurity_decrease\" : [0,0.1],\n",
    "              \"max_features\" :[\"auto\"],\n",
    "              \"subsample\": [0.8],\n",
    "              \"n_estimators\":[100],\n",
    "              \"validation_fraction\":[0.2],\n",
    "              \"tol\":[0.001],\n",
    "              \"n_iter_no_change\":[10]             \n",
    "             }\n",
    "Xtn = data_pipeline.transform(X_train)\n",
    "w=compute_sample_weight({0:.6,1:9},y1_train)\n",
    "base_estimator = GradientBoostingClassifier(random_state=42)\n",
    "sv = GridSearchCV(base_estimator, param_grid, cv=3, verbose=2).fit(Xtn, y1_train, sample_weight= w)\n",
    "\n",
    "\n"
   ]
  },
  {
   "cell_type": "code",
   "execution_count": 225,
   "id": "c44496b8",
   "metadata": {},
   "outputs": [
    {
     "name": "stdout",
     "output_type": "stream",
     "text": [
      "Fitting 3 folds for each of 4 candidates, totalling 12 fits\n"
     ]
    },
    {
     "name": "stderr",
     "output_type": "stream",
     "text": [
      "C:\\Users\\Santiago desk\\miniconda3\\envs\\py38\\lib\\site-packages\\sklearn\\base.py:445: UserWarning: X does not have valid feature names, but GradientBoostingRegressor was fitted with feature names\n",
      "  warnings.warn(\n"
     ]
    }
   ],
   "source": [
    "param_grid = {'max_depth': [5, 11],\n",
    "              \"learning_rate\": [0.001, 0.1],\n",
    "              \"criterion\": [\"friedman_mse\"],\n",
    "              \"max_features\" :[\"auto\"],\n",
    "              \"subsample\": [0.8],\n",
    "              \"n_estimators\":[100],\n",
    "              \"validation_fraction\":[0.2],\n",
    "              \"tol\":[0.001],\n",
    "              \"n_iter_no_change\":[10]             \n",
    "             }\n",
    "Xtn2 = data_pipeline.transform(X2_train)\n",
    "base_estimator2 = GradientBoostingRegressor(random_state=42)\n",
    "sv2 = GridSearchCV(base_estimator2, param_grid, cv=3, verbose=2, n_jobs=-1).fit(Xtn2, y2_train)\n",
    "\n"
   ]
  },
  {
   "cell_type": "code",
   "execution_count": 235,
   "id": "f7c94d5c",
   "metadata": {},
   "outputs": [
    {
     "name": "stdout",
     "output_type": "stream",
     "text": [
      "0.9497662754384687\n",
      "0.03264635558171588\n"
     ]
    }
   ],
   "source": [
    "print(sv.best_score_)\n",
    "print(sv2.best_score_)"
   ]
  },
  {
   "cell_type": "code",
   "execution_count": 262,
   "id": "4636fc1d",
   "metadata": {},
   "outputs": [
    {
     "name": "stdout",
     "output_type": "stream",
     "text": [
      "{'criterion': 'friedman_mse', 'learning_rate': 0.001, 'max_depth': 5, 'max_features': 'auto', 'min_impurity_decrease': 0, 'n_estimators': 100, 'n_iter_no_change': 10, 'subsample': 0.8, 'tol': 0.001, 'validation_fraction': 0.2}\n",
      "{'criterion': 'friedman_mse', 'learning_rate': 0.1, 'max_depth': 11, 'max_features': 'auto', 'n_estimators': 100, 'n_iter_no_change': 10, 'subsample': 0.8, 'tol': 0.001, 'validation_fraction': 0.2}\n"
     ]
    }
   ],
   "source": [
    "print(sv.best_params_)\n",
    "\n",
    "print(sv2.best_params_)\n"
   ]
  },
  {
   "cell_type": "markdown",
   "id": "365363a6",
   "metadata": {},
   "source": [
    "The results are not great but we will use those hyperparameters we found to train a bigger model."
   ]
  },
  {
   "cell_type": "code",
   "execution_count": 292,
   "id": "ddcee4ee",
   "metadata": {},
   "outputs": [],
   "source": [
    "bm=GradientBoostingClassifier(learning_rate= 0.001, max_depth= 5, subsample=0.8, n_estimators = 1500 ).fit(Xtn, y1_train, sample_weight= w)"
   ]
  },
  {
   "cell_type": "markdown",
   "id": "e9469f0a",
   "metadata": {},
   "source": [
    "Lets look at the models results:\n",
    "- for training dataset:"
   ]
  },
  {
   "cell_type": "code",
   "execution_count": 313,
   "id": "c106478d",
   "metadata": {},
   "outputs": [
    {
     "data": {
      "text/plain": [
       "array([[446510,  17606],\n",
       "       [ 68553,   9636]], dtype=int64)"
      ]
     },
     "execution_count": 313,
     "metadata": {},
     "output_type": "execute_result"
    }
   ],
   "source": [
    "y1_pred=bm.predict(Xtn)\n",
    "confusion_matrix(y1_pred, y1_train)"
   ]
  },
  {
   "cell_type": "code",
   "execution_count": 315,
   "id": "f100f171",
   "metadata": {},
   "outputs": [
    {
     "name": "stdout",
     "output_type": "stream",
     "text": [
      "accuracy 0.8411244594831322\n",
      "accuracy 0.35371852286909916\n",
      "accuracy 0.12323984192149791\n"
     ]
    }
   ],
   "source": [
    "print(f\"accuracy {metrics.accuracy_score(y1_pred, y1_train)}\")\n",
    "print(f\"accuracy {metrics.precision_score(y1_pred, y1_train)}\")\n",
    "print(f\"accuracy {metrics.recall_score(y1_pred, y1_train)}\")"
   ]
  },
  {
   "cell_type": "markdown",
   "id": "a164c03a",
   "metadata": {},
   "source": [
    "- for test dataset:"
   ]
  },
  {
   "cell_type": "code",
   "execution_count": 321,
   "id": "198360d5",
   "metadata": {},
   "outputs": [
    {
     "data": {
      "text/plain": [
       "array([[111488,   4411],\n",
       "       [ 17279,   2399]], dtype=int64)"
      ]
     },
     "execution_count": 321,
     "metadata": {},
     "output_type": "execute_result"
    }
   ],
   "source": [
    "y1_predtest=bm.predict(data_pipeline.transform(X_test))\n",
    "confusion_matrix(y1_predtest, y1_test)"
   ]
  },
  {
   "cell_type": "code",
   "execution_count": 322,
   "id": "c5bef3dc",
   "metadata": {},
   "outputs": [
    {
     "name": "stdout",
     "output_type": "stream",
     "text": [
      "accuracy 0.8400171120470287\n",
      "accuracy 0.35227606461086636\n",
      "accuracy 0.12191279601585527\n"
     ]
    }
   ],
   "source": [
    "print(f\"accuracy {metrics.accuracy_score(y1_predtest, y1_test)}\")\n",
    "print(f\"accuracy {metrics.precision_score(y1_predtest, y1_test)}\")\n",
    "print(f\"accuracy {metrics.recall_score(y1_predtest, y1_test)}\")"
   ]
  },
  {
   "cell_type": "markdown",
   "id": "f5121f27",
   "metadata": {},
   "source": [
    "Still not great but at least now we are getting some values to be predicted as claims. Also at least the model isn't overfitted so there's still space for improvement. "
   ]
  },
  {
   "cell_type": "code",
   "execution_count": 273,
   "id": "a584ce07",
   "metadata": {},
   "outputs": [],
   "source": [
    "bm2=GradientBoostingRegressor(max_depth=11, max_features='auto', random_state=42, subsample=0.8, n_estimators = 1500).fit(Xtn2, y2_train)"
   ]
  },
  {
   "cell_type": "code",
   "execution_count": 298,
   "id": "e8afc99f",
   "metadata": {
    "scrolled": true
   },
   "outputs": [
    {
     "data": {
      "text/plain": [
       "0.967673060494881"
      ]
     },
     "execution_count": 298,
     "metadata": {},
     "output_type": "execute_result"
    }
   ],
   "source": [
    "bm2.score(Xtn2,y2_train)"
   ]
  },
  {
   "cell_type": "markdown",
   "id": "738f4e7f",
   "metadata": {},
   "source": [
    "We now get a better better regression model."
   ]
  },
  {
   "cell_type": "markdown",
   "id": "1f240379",
   "metadata": {},
   "source": [
    "The last thing we need now is to combine the two models so you first predict which samples are 0 and then pass the ones predicted to not be 0 to the second model."
   ]
  },
  {
   "cell_type": "code",
   "execution_count": 299,
   "id": "c77fc552",
   "metadata": {},
   "outputs": [],
   "source": [
    "class Combinar_modelos(BaseEstimator, TransformerMixin):\n",
    "    def __init__(self, model1,model2):\n",
    "        self.model1 = model1\n",
    "        self.model2 = model2\n",
    "    def fit(self, *args, **kwargs):\n",
    "        return self\n",
    "    def predict(self, X, **transform_params):\n",
    "        X[\"clase\"]=self.model1.predict(X)\n",
    "        X[\"resultado\"]=0\n",
    "        print(X.loc[(X['clase']!=0)].drop(['clase',\"resultado\"],axis=1).shape)\n",
    "        X.loc[(X['clase']!=0,\"resultado\")]=self.model2.predict(X.loc[(X['clase']!=0)].drop(['clase',\"resultado\"],axis=1))\n",
    "        \n",
    "        return X[\"resultado\"].round()"
   ]
  },
  {
   "cell_type": "markdown",
   "id": "3bb656c7",
   "metadata": {},
   "source": [
    "Finally we join the model and data processing steps into a pipeline"
   ]
  },
  {
   "cell_type": "code",
   "execution_count": 308,
   "id": "9d87b9dd",
   "metadata": {},
   "outputs": [],
   "source": [
    "modelo = Pipeline([\n",
    "        ('datapipeline', data_pipeline),\n",
    "        ('output', Combinar_modelos(bm,bm2))\n",
    "    ])"
   ]
  },
  {
   "cell_type": "code",
   "execution_count": 316,
   "id": "d0351a92",
   "metadata": {},
   "outputs": [
    {
     "name": "stdout",
     "output_type": "stream",
     "text": [
      "(19678, 17)\n",
      "(78189, 17)\n"
     ]
    },
    {
     "data": {
      "text/html": [
       "<div>\n",
       "<style scoped>\n",
       "    .dataframe tbody tr th:only-of-type {\n",
       "        vertical-align: middle;\n",
       "    }\n",
       "\n",
       "    .dataframe tbody tr th {\n",
       "        vertical-align: top;\n",
       "    }\n",
       "\n",
       "    .dataframe thead th {\n",
       "        text-align: right;\n",
       "    }\n",
       "</style>\n",
       "<table border=\"1\" class=\"dataframe\">\n",
       "  <thead>\n",
       "    <tr style=\"text-align: right;\">\n",
       "      <th></th>\n",
       "      <th>mean_squared_error</th>\n",
       "    </tr>\n",
       "  </thead>\n",
       "  <tbody>\n",
       "    <tr>\n",
       "      <th>train</th>\n",
       "      <td>0.171120</td>\n",
       "    </tr>\n",
       "    <tr>\n",
       "      <th>test</th>\n",
       "      <td>0.174027</td>\n",
       "    </tr>\n",
       "  </tbody>\n",
       "</table>\n",
       "</div>"
      ],
      "text/plain": [
       "       mean_squared_error\n",
       "train            0.171120\n",
       "test             0.174027"
      ]
     },
     "execution_count": 316,
     "metadata": {},
     "output_type": "execute_result"
    }
   ],
   "source": [
    "ptest = modelo.predict(X_test)\n",
    "ptrain = modelo.predict(X_train)\n",
    "r2_test= [(mean_squared_error( ptest, y_test ))]\n",
    "r2_train = [(mean_squared_error( ptrain, y_train ))]\n",
    "resultados = pd.DataFrame.from_records([r2_train,r2_test])\n",
    "resultados.index=['train','test']\n",
    "resultados.columns=[\"mean_squared_error\"]\n",
    "resultados"
   ]
  },
  {
   "cell_type": "markdown",
   "id": "f4960db9",
   "metadata": {},
   "source": [
    "Now having tested the model we can save it to joblib and it can now be ready for deployment. The data that can be used with the model must be cleaned like we did in the first step to remove empty spaces and non numerical values in numeric columns (That cleanup step could also be integrated into the pipeline on a later time).  For it to work we to put all the classes I created into a python file. Then import that file wherever the model would be deployed for it to work."
   ]
  },
  {
   "cell_type": "code",
   "execution_count": 309,
   "id": "4b83086d",
   "metadata": {},
   "outputs": [
    {
     "data": {
      "text/plain": [
       "['predmodel.joblib']"
      ]
     },
     "execution_count": 309,
     "metadata": {},
     "output_type": "execute_result"
    }
   ],
   "source": [
    "joblib.dump(modelo,\"predmodel.joblib\")"
   ]
  },
  {
   "cell_type": "markdown",
   "id": "86196fec",
   "metadata": {},
   "source": [
    "In the end wished I had a bit more time to improve the hyperparameter tunning so the model would have performed better in the end. But I'm satisfied with the work I've done up until now.\n",
    "Thank you very much."
   ]
  }
 ],
 "metadata": {
  "kernelspec": {
   "display_name": "Python 3 (ipykernel)",
   "language": "python",
   "name": "python3"
  },
  "language_info": {
   "codemirror_mode": {
    "name": "ipython",
    "version": 3
   },
   "file_extension": ".py",
   "mimetype": "text/x-python",
   "name": "python",
   "nbconvert_exporter": "python",
   "pygments_lexer": "ipython3",
   "version": "3.9.5"
  }
 },
 "nbformat": 4,
 "nbformat_minor": 5
}
